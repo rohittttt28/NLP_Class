{
  "nbformat": 4,
  "nbformat_minor": 0,
  "metadata": {
    "colab": {
      "name": "assignment2_rohit.ipynb",
      "provenance": [],
      "authorship_tag": "ABX9TyOuaQBlcXOl4VCJnlXa6Tb7",
      "include_colab_link": true
    },
    "kernelspec": {
      "name": "python3",
      "display_name": "Python 3"
    }
  },
  "cells": [
    {
      "cell_type": "markdown",
      "metadata": {
        "id": "view-in-github",
        "colab_type": "text"
      },
      "source": [
        "<a href=\"https://colab.research.google.com/github/rohittttt28/NLP_Class/blob/master/assignment2_rohit.ipynb\" target=\"_parent\"><img src=\"https://colab.research.google.com/assets/colab-badge.svg\" alt=\"Open In Colab\"/></a>"
      ]
    },
    {
      "cell_type": "code",
      "metadata": {
        "id": "aveDn758PckW",
        "colab_type": "code",
        "colab": {
          "base_uri": "https://localhost:8080/",
          "height": 134
        },
        "outputId": "5cbfd3ae-52ff-40ac-d7e6-876ba1a21fb1"
      },
      "source": [
        "import nltk\n",
        "nltk.download('punkt')\n",
        "nltk.download('stopwords')\n",
        "nltk.download('wordnet')"
      ],
      "execution_count": 24,
      "outputs": [
        {
          "output_type": "stream",
          "text": [
            "[nltk_data] Downloading package punkt to /root/nltk_data...\n",
            "[nltk_data]   Package punkt is already up-to-date!\n",
            "[nltk_data] Downloading package stopwords to /root/nltk_data...\n",
            "[nltk_data]   Package stopwords is already up-to-date!\n",
            "[nltk_data] Downloading package wordnet to /root/nltk_data...\n",
            "[nltk_data]   Unzipping corpora/wordnet.zip.\n"
          ],
          "name": "stdout"
        },
        {
          "output_type": "execute_result",
          "data": {
            "text/plain": [
              "True"
            ]
          },
          "metadata": {
            "tags": []
          },
          "execution_count": 24
        }
      ]
    },
    {
      "cell_type": "code",
      "metadata": {
        "id": "Gl3PgE_rPwI0",
        "colab_type": "code",
        "colab": {}
      },
      "source": [
        "GOT_text =\"\"\"The final season depicts the culmination of the series' two primary conflicts: the Great War against the Army of the Dead, and the Last War for control of the Iron Throne. In the first half of the season, Jon Snow, Daenerys Targaryen and many of the main characters converge at Winterfell to face the Dead. During the long, bloody battle, which includes aerial combat by dragons, Bran lures the Night King into the open, where Arya destroys him; the army of White Walkers and wights crumble. Meanwhile, Cersei Lannister remains in King's Landing and strengthens her forces to set traps for a weakened Daenerys. The second half of the season resumes the war for the throne as Daenerys suffers losses until she finally assaults King's Landing on Drogon, her last dragon. She defeats Cersei's forces, burns the city and kills Cersei and her brother Jaime. Daenerys vows to \"liberate\" the whole world as she has liberated the capital of Westeros. Unable to sway her from her destructive path, an agonized Jon kills her. Drogon flies away with her body. The leaders of Westeros choose Bran Stark as King, who grants the North independence and appoints Tyrion his Hand. Sansa Stark is crowned Queen in the North. Arya sails west, and Jon leads the Wildlings north of the Wall. \"\"\""
      ],
      "execution_count": 12,
      "outputs": []
    },
    {
      "cell_type": "markdown",
      "metadata": {
        "id": "DyB7F1E5QH8T",
        "colab_type": "text"
      },
      "source": [
        "**Word Tokenization**"
      ]
    },
    {
      "cell_type": "code",
      "metadata": {
        "id": "CLSIU2dPQEjx",
        "colab_type": "code",
        "colab": {
          "base_uri": "https://localhost:8080/",
          "height": 54
        },
        "outputId": "eca5f9ce-3b77-4507-e59e-0f618e4a6306"
      },
      "source": [
        "from nltk import word_tokenize\n",
        "print(word_tokenize(GOT_text))"
      ],
      "execution_count": 13,
      "outputs": [
        {
          "output_type": "stream",
          "text": [
            "['The', 'final', 'season', 'depicts', 'the', 'culmination', 'of', 'the', 'series', \"'\", 'two', 'primary', 'conflicts', ':', 'the', 'Great', 'War', 'against', 'the', 'Army', 'of', 'the', 'Dead', ',', 'and', 'the', 'Last', 'War', 'for', 'control', 'of', 'the', 'Iron', 'Throne', '.', 'In', 'the', 'first', 'half', 'of', 'the', 'season', ',', 'Jon', 'Snow', ',', 'Daenerys', 'Targaryen', 'and', 'many', 'of', 'the', 'main', 'characters', 'converge', 'at', 'Winterfell', 'to', 'face', 'the', 'Dead', '.', 'During', 'the', 'long', ',', 'bloody', 'battle', ',', 'which', 'includes', 'aerial', 'combat', 'by', 'dragons', ',', 'Bran', 'lures', 'the', 'Night', 'King', 'into', 'the', 'open', ',', 'where', 'Arya', 'destroys', 'him', ';', 'the', 'army', 'of', 'White', 'Walkers', 'and', 'wights', 'crumble', '.', 'Meanwhile', ',', 'Cersei', 'Lannister', 'remains', 'in', 'King', \"'s\", 'Landing', 'and', 'strengthens', 'her', 'forces', 'to', 'set', 'traps', 'for', 'a', 'weakened', 'Daenerys', '.', 'The', 'second', 'half', 'of', 'the', 'season', 'resumes', 'the', 'war', 'for', 'the', 'throne', 'as', 'Daenerys', 'suffers', 'losses', 'until', 'she', 'finally', 'assaults', 'King', \"'s\", 'Landing', 'on', 'Drogon', ',', 'her', 'last', 'dragon', '.', 'She', 'defeats', 'Cersei', \"'s\", 'forces', ',', 'burns', 'the', 'city', 'and', 'kills', 'Cersei', 'and', 'her', 'brother', 'Jaime', '.', 'Daenerys', 'vows', 'to', '``', 'liberate', \"''\", 'the', 'whole', 'world', 'as', 'she', 'has', 'liberated', 'the', 'capital', 'of', 'Westeros', '.', 'Unable', 'to', 'sway', 'her', 'from', 'her', 'destructive', 'path', ',', 'an', 'agonized', 'Jon', 'kills', 'her', '.', 'Drogon', 'flies', 'away', 'with', 'her', 'body', '.', 'The', 'leaders', 'of', 'Westeros', 'choose', 'Bran', 'Stark', 'as', 'King', ',', 'who', 'grants', 'the', 'North', 'independence', 'and', 'appoints', 'Tyrion', 'his', 'Hand', '.', 'Sansa', 'Stark', 'is', 'crowned', 'Queen', 'in', 'the', 'North', '.', 'Arya', 'sails', 'west', ',', 'and', 'Jon', 'leads', 'the', 'Wildlings', 'north', 'of', 'the', 'Wall', '.']\n"
          ],
          "name": "stdout"
        }
      ]
    },
    {
      "cell_type": "markdown",
      "metadata": {
        "id": "I3dL5qNRQsBV",
        "colab_type": "text"
      },
      "source": [
        "**Sentence** **Tokenization**"
      ]
    },
    {
      "cell_type": "code",
      "metadata": {
        "id": "X0GSj-lgQPOo",
        "colab_type": "code",
        "colab": {
          "base_uri": "https://localhost:8080/",
          "height": 54
        },
        "outputId": "cf45713a-e776-438b-cbc7-7d2aea6d32fe"
      },
      "source": [
        "from nltk.tokenize import sent_tokenize\n",
        "print(sent_tokenize(GOT_text))\n"
      ],
      "execution_count": 14,
      "outputs": [
        {
          "output_type": "stream",
          "text": [
            "[\"The final season depicts the culmination of the series' two primary conflicts: the Great War against the Army of the Dead, and the Last War for control of the Iron Throne.\", 'In the first half of the season, Jon Snow, Daenerys Targaryen and many of the main characters converge at Winterfell to face the Dead.', 'During the long, bloody battle, which includes aerial combat by dragons, Bran lures the Night King into the open, where Arya destroys him; the army of White Walkers and wights crumble.', \"Meanwhile, Cersei Lannister remains in King's Landing and strengthens her forces to set traps for a weakened Daenerys.\", \"The second half of the season resumes the war for the throne as Daenerys suffers losses until she finally assaults King's Landing on Drogon, her last dragon.\", \"She defeats Cersei's forces, burns the city and kills Cersei and her brother Jaime.\", 'Daenerys vows to \"liberate\" the whole world as she has liberated the capital of Westeros.', 'Unable to sway her from her destructive path, an agonized Jon kills her.', 'Drogon flies away with her body.', 'The leaders of Westeros choose Bran Stark as King, who grants the North independence and appoints Tyrion his Hand.', 'Sansa Stark is crowned Queen in the North.', 'Arya sails west, and Jon leads the Wildlings north of the Wall.']\n"
          ],
          "name": "stdout"
        }
      ]
    },
    {
      "cell_type": "code",
      "metadata": {
        "id": "YzAV241cQ1cs",
        "colab_type": "code",
        "colab": {
          "base_uri": "https://localhost:8080/",
          "height": 54
        },
        "outputId": "e427c18e-e05d-40f9-e8e8-436eb1bf1e2b"
      },
      "source": [
        "from nltk.tokenize import TreebankWordTokenizer \n",
        "  \n",
        "tokenizer = TreebankWordTokenizer() \n",
        "print(tokenizer.tokenize(GOT_text))"
      ],
      "execution_count": 15,
      "outputs": [
        {
          "output_type": "stream",
          "text": [
            "['The', 'final', 'season', 'depicts', 'the', 'culmination', 'of', 'the', 'series', \"'\", 'two', 'primary', 'conflicts', ':', 'the', 'Great', 'War', 'against', 'the', 'Army', 'of', 'the', 'Dead', ',', 'and', 'the', 'Last', 'War', 'for', 'control', 'of', 'the', 'Iron', 'Throne.', 'In', 'the', 'first', 'half', 'of', 'the', 'season', ',', 'Jon', 'Snow', ',', 'Daenerys', 'Targaryen', 'and', 'many', 'of', 'the', 'main', 'characters', 'converge', 'at', 'Winterfell', 'to', 'face', 'the', 'Dead.', 'During', 'the', 'long', ',', 'bloody', 'battle', ',', 'which', 'includes', 'aerial', 'combat', 'by', 'dragons', ',', 'Bran', 'lures', 'the', 'Night', 'King', 'into', 'the', 'open', ',', 'where', 'Arya', 'destroys', 'him', ';', 'the', 'army', 'of', 'White', 'Walkers', 'and', 'wights', 'crumble.', 'Meanwhile', ',', 'Cersei', 'Lannister', 'remains', 'in', 'King', \"'s\", 'Landing', 'and', 'strengthens', 'her', 'forces', 'to', 'set', 'traps', 'for', 'a', 'weakened', 'Daenerys.', 'The', 'second', 'half', 'of', 'the', 'season', 'resumes', 'the', 'war', 'for', 'the', 'throne', 'as', 'Daenerys', 'suffers', 'losses', 'until', 'she', 'finally', 'assaults', 'King', \"'s\", 'Landing', 'on', 'Drogon', ',', 'her', 'last', 'dragon.', 'She', 'defeats', 'Cersei', \"'s\", 'forces', ',', 'burns', 'the', 'city', 'and', 'kills', 'Cersei', 'and', 'her', 'brother', 'Jaime.', 'Daenerys', 'vows', 'to', '``', 'liberate', \"''\", 'the', 'whole', 'world', 'as', 'she', 'has', 'liberated', 'the', 'capital', 'of', 'Westeros.', 'Unable', 'to', 'sway', 'her', 'from', 'her', 'destructive', 'path', ',', 'an', 'agonized', 'Jon', 'kills', 'her.', 'Drogon', 'flies', 'away', 'with', 'her', 'body.', 'The', 'leaders', 'of', 'Westeros', 'choose', 'Bran', 'Stark', 'as', 'King', ',', 'who', 'grants', 'the', 'North', 'independence', 'and', 'appoints', 'Tyrion', 'his', 'Hand.', 'Sansa', 'Stark', 'is', 'crowned', 'Queen', 'in', 'the', 'North.', 'Arya', 'sails', 'west', ',', 'and', 'Jon', 'leads', 'the', 'Wildlings', 'north', 'of', 'the', 'Wall', '.']\n"
          ],
          "name": "stdout"
        }
      ]
    },
    {
      "cell_type": "code",
      "metadata": {
        "id": "AQEddSKeQ-59",
        "colab_type": "code",
        "colab": {
          "base_uri": "https://localhost:8080/",
          "height": 34
        },
        "outputId": "45d32863-f4d4-4145-de13-5865772507b3"
      },
      "source": [
        "from nltk.tokenize import RegexpTokenizer \n",
        "  \n",
        "tokenizer = RegexpTokenizer(\"[\\d']+\") \n",
        "words = \"I have bought 5 kg of mangoes, 3 kg of apples and 9 kg of guava.\"\n",
        "tokenizer.tokenize(words)"
      ],
      "execution_count": 16,
      "outputs": [
        {
          "output_type": "execute_result",
          "data": {
            "text/plain": [
              "['5', '3', '9']"
            ]
          },
          "metadata": {
            "tags": []
          },
          "execution_count": 16
        }
      ]
    },
    {
      "cell_type": "code",
      "metadata": {
        "id": "dEML3m31RQCN",
        "colab_type": "code",
        "colab": {
          "base_uri": "https://localhost:8080/",
          "height": 54
        },
        "outputId": "f145f7ca-5d96-4143-e006-8a2861343a7a"
      },
      "source": [
        "from nltk import SpaceTokenizer\n",
        "\n",
        "print(SpaceTokenizer().tokenize(GOT_text))"
      ],
      "execution_count": 18,
      "outputs": [
        {
          "output_type": "stream",
          "text": [
            "['The', 'final', 'season', 'depicts', 'the', 'culmination', 'of', 'the', \"series'\", 'two', 'primary', 'conflicts:', 'the', 'Great', 'War', 'against', 'the', 'Army', 'of', 'the', 'Dead,', 'and', 'the', 'Last', 'War', 'for', 'control', 'of', 'the', 'Iron', 'Throne.', 'In', 'the', 'first', 'half', 'of', 'the', 'season,', 'Jon', 'Snow,', 'Daenerys', 'Targaryen', 'and', 'many', 'of', 'the', 'main', 'characters', 'converge', 'at', 'Winterfell', 'to', 'face', 'the', 'Dead.', 'During', 'the', 'long,', 'bloody', 'battle,', 'which', 'includes', 'aerial', 'combat', 'by', 'dragons,', 'Bran', 'lures', 'the', 'Night', 'King', 'into', 'the', 'open,', 'where', 'Arya', 'destroys', 'him;', 'the', 'army', 'of', 'White', 'Walkers', 'and', 'wights', 'crumble.', 'Meanwhile,', 'Cersei', 'Lannister', 'remains', 'in', \"King's\", 'Landing', 'and', 'strengthens', 'her', 'forces', 'to', 'set', 'traps', 'for', 'a', 'weakened', 'Daenerys.', 'The', 'second', 'half', 'of', 'the', 'season', 'resumes', 'the', 'war', 'for', 'the', 'throne', 'as', 'Daenerys', 'suffers', 'losses', 'until', 'she', 'finally', 'assaults', \"King's\", 'Landing', 'on', 'Drogon,', 'her', 'last', 'dragon.', 'She', 'defeats', \"Cersei's\", 'forces,', 'burns', 'the', 'city', 'and', 'kills', 'Cersei', 'and', 'her', 'brother', 'Jaime.', 'Daenerys', 'vows', 'to', '\"liberate\"', 'the', 'whole', 'world', 'as', 'she', 'has', 'liberated', 'the', 'capital', 'of', 'Westeros.', 'Unable', 'to', 'sway', 'her', 'from', 'her', 'destructive', 'path,', 'an', 'agonized', 'Jon', 'kills', 'her.', 'Drogon', 'flies', 'away', 'with', 'her', 'body.', 'The', 'leaders', 'of', 'Westeros', 'choose', 'Bran', 'Stark', 'as', 'King,', 'who', 'grants', 'the', 'North', 'independence', 'and', 'appoints', 'Tyrion', 'his', 'Hand.', 'Sansa', 'Stark', 'is', 'crowned', 'Queen', 'in', 'the', 'North.', 'Arya', 'sails', 'west,', 'and', 'Jon', 'leads', 'the', 'Wildlings', 'north', 'of', 'the', 'Wall.', '']\n"
          ],
          "name": "stdout"
        }
      ]
    },
    {
      "cell_type": "code",
      "metadata": {
        "id": "ZtXthe5oRWAP",
        "colab_type": "code",
        "colab": {
          "base_uri": "https://localhost:8080/",
          "height": 50
        },
        "outputId": "f44ecf82-6e2c-490b-9363-0b7289a6a2a1"
      },
      "source": [
        "from nltk.corpus import stopwords\n",
        "from nltk.tokenize import word_tokenize\n",
        "\n",
        "ex= \"\"\"All that glitters is not gold\"\"\"\n",
        "\n",
        "tokens = word_tokenize(ex)\n",
        "\n",
        "tokens_no_stop = [w for w in tokens if not w in stopwords.words('english')]\n",
        "\n",
        "print(\"StopWords:  \", tokens)\n",
        "print(\"No StopWords:  \", tokens_no_stop)"
      ],
      "execution_count": 21,
      "outputs": [
        {
          "output_type": "stream",
          "text": [
            "StopWords:   ['All', 'that', 'glitters', 'is', 'not', 'gold']\n",
            "No StopWords:   ['All', 'glitters', 'gold']\n"
          ],
          "name": "stdout"
        }
      ]
    },
    {
      "cell_type": "code",
      "metadata": {
        "id": "94VHY4ZjRdPo",
        "colab_type": "code",
        "colab": {
          "base_uri": "https://localhost:8080/",
          "height": 1000
        },
        "outputId": "4b9de9aa-f8ea-4f7b-f746-5129e7a22d89"
      },
      "source": [
        "import nltk\n",
        "from nltk.stem.porter import PorterStemmer\n",
        "stemmer = PorterStemmer()\n",
        "tokens = nltk.word_tokenize(GOT_text)\n",
        "print(\"{0:20}{1:20}\".format(\"Actual\",\"Stem\"))\n",
        "for w in tokens:\n",
        "     print (\"{0:20}{1:20}\".format(w,stemmer.stem(w)))"
      ],
      "execution_count": 22,
      "outputs": [
        {
          "output_type": "stream",
          "text": [
            "Actual              Stem                \n",
            "The                 the                 \n",
            "final               final               \n",
            "season              season              \n",
            "depicts             depict              \n",
            "the                 the                 \n",
            "culmination         culmin              \n",
            "of                  of                  \n",
            "the                 the                 \n",
            "series              seri                \n",
            "'                   '                   \n",
            "two                 two                 \n",
            "primary             primari             \n",
            "conflicts           conflict            \n",
            ":                   :                   \n",
            "the                 the                 \n",
            "Great               great               \n",
            "War                 war                 \n",
            "against             against             \n",
            "the                 the                 \n",
            "Army                armi                \n",
            "of                  of                  \n",
            "the                 the                 \n",
            "Dead                dead                \n",
            ",                   ,                   \n",
            "and                 and                 \n",
            "the                 the                 \n",
            "Last                last                \n",
            "War                 war                 \n",
            "for                 for                 \n",
            "control             control             \n",
            "of                  of                  \n",
            "the                 the                 \n",
            "Iron                iron                \n",
            "Throne              throne              \n",
            ".                   .                   \n",
            "In                  In                  \n",
            "the                 the                 \n",
            "first               first               \n",
            "half                half                \n",
            "of                  of                  \n",
            "the                 the                 \n",
            "season              season              \n",
            ",                   ,                   \n",
            "Jon                 jon                 \n",
            "Snow                snow                \n",
            ",                   ,                   \n",
            "Daenerys            daeneri             \n",
            "Targaryen           targaryen           \n",
            "and                 and                 \n",
            "many                mani                \n",
            "of                  of                  \n",
            "the                 the                 \n",
            "main                main                \n",
            "characters          charact             \n",
            "converge            converg             \n",
            "at                  at                  \n",
            "Winterfell          winterfel           \n",
            "to                  to                  \n",
            "face                face                \n",
            "the                 the                 \n",
            "Dead                dead                \n",
            ".                   .                   \n",
            "During              dure                \n",
            "the                 the                 \n",
            "long                long                \n",
            ",                   ,                   \n",
            "bloody              bloodi              \n",
            "battle              battl               \n",
            ",                   ,                   \n",
            "which               which               \n",
            "includes            includ              \n",
            "aerial              aerial              \n",
            "combat              combat              \n",
            "by                  by                  \n",
            "dragons             dragon              \n",
            ",                   ,                   \n",
            "Bran                bran                \n",
            "lures               lure                \n",
            "the                 the                 \n",
            "Night               night               \n",
            "King                king                \n",
            "into                into                \n",
            "the                 the                 \n",
            "open                open                \n",
            ",                   ,                   \n",
            "where               where               \n",
            "Arya                arya                \n",
            "destroys            destroy             \n",
            "him                 him                 \n",
            ";                   ;                   \n",
            "the                 the                 \n",
            "army                armi                \n",
            "of                  of                  \n",
            "White               white               \n",
            "Walkers             walker              \n",
            "and                 and                 \n",
            "wights              wight               \n",
            "crumble             crumbl              \n",
            ".                   .                   \n",
            "Meanwhile           meanwhil            \n",
            ",                   ,                   \n",
            "Cersei              cersei              \n",
            "Lannister           lannist             \n",
            "remains             remain              \n",
            "in                  in                  \n",
            "King                king                \n",
            "'s                  's                  \n",
            "Landing             land                \n",
            "and                 and                 \n",
            "strengthens         strengthen          \n",
            "her                 her                 \n",
            "forces              forc                \n",
            "to                  to                  \n",
            "set                 set                 \n",
            "traps               trap                \n",
            "for                 for                 \n",
            "a                   a                   \n",
            "weakened            weaken              \n",
            "Daenerys            daeneri             \n",
            ".                   .                   \n",
            "The                 the                 \n",
            "second              second              \n",
            "half                half                \n",
            "of                  of                  \n",
            "the                 the                 \n",
            "season              season              \n",
            "resumes             resum               \n",
            "the                 the                 \n",
            "war                 war                 \n",
            "for                 for                 \n",
            "the                 the                 \n",
            "throne              throne              \n",
            "as                  as                  \n",
            "Daenerys            daeneri             \n",
            "suffers             suffer              \n",
            "losses              loss                \n",
            "until               until               \n",
            "she                 she                 \n",
            "finally             final               \n",
            "assaults            assault             \n",
            "King                king                \n",
            "'s                  's                  \n",
            "Landing             land                \n",
            "on                  on                  \n",
            "Drogon              drogon              \n",
            ",                   ,                   \n",
            "her                 her                 \n",
            "last                last                \n",
            "dragon              dragon              \n",
            ".                   .                   \n",
            "She                 she                 \n",
            "defeats             defeat              \n",
            "Cersei              cersei              \n",
            "'s                  's                  \n",
            "forces              forc                \n",
            ",                   ,                   \n",
            "burns               burn                \n",
            "the                 the                 \n",
            "city                citi                \n",
            "and                 and                 \n",
            "kills               kill                \n",
            "Cersei              cersei              \n",
            "and                 and                 \n",
            "her                 her                 \n",
            "brother             brother             \n",
            "Jaime               jaim                \n",
            ".                   .                   \n",
            "Daenerys            daeneri             \n",
            "vows                vow                 \n",
            "to                  to                  \n",
            "``                  ``                  \n",
            "liberate            liber               \n",
            "''                  ''                  \n",
            "the                 the                 \n",
            "whole               whole               \n",
            "world               world               \n",
            "as                  as                  \n",
            "she                 she                 \n",
            "has                 ha                  \n",
            "liberated           liber               \n",
            "the                 the                 \n",
            "capital             capit               \n",
            "of                  of                  \n",
            "Westeros            westero             \n",
            ".                   .                   \n",
            "Unable              unabl               \n",
            "to                  to                  \n",
            "sway                sway                \n",
            "her                 her                 \n",
            "from                from                \n",
            "her                 her                 \n",
            "destructive         destruct            \n",
            "path                path                \n",
            ",                   ,                   \n",
            "an                  an                  \n",
            "agonized            agon                \n",
            "Jon                 jon                 \n",
            "kills               kill                \n",
            "her                 her                 \n",
            ".                   .                   \n",
            "Drogon              drogon              \n",
            "flies               fli                 \n",
            "away                away                \n",
            "with                with                \n",
            "her                 her                 \n",
            "body                bodi                \n",
            ".                   .                   \n",
            "The                 the                 \n",
            "leaders             leader              \n",
            "of                  of                  \n",
            "Westeros            westero             \n",
            "choose              choos               \n",
            "Bran                bran                \n",
            "Stark               stark               \n",
            "as                  as                  \n",
            "King                king                \n",
            ",                   ,                   \n",
            "who                 who                 \n",
            "grants              grant               \n",
            "the                 the                 \n",
            "North               north               \n",
            "independence        independ            \n",
            "and                 and                 \n",
            "appoints            appoint             \n",
            "Tyrion              tyrion              \n",
            "his                 hi                  \n",
            "Hand                hand                \n",
            ".                   .                   \n",
            "Sansa               sansa               \n",
            "Stark               stark               \n",
            "is                  is                  \n",
            "crowned             crown               \n",
            "Queen               queen               \n",
            "in                  in                  \n",
            "the                 the                 \n",
            "North               north               \n",
            ".                   .                   \n",
            "Arya                arya                \n",
            "sails               sail                \n",
            "west                west                \n",
            ",                   ,                   \n",
            "and                 and                 \n",
            "Jon                 jon                 \n",
            "leads               lead                \n",
            "the                 the                 \n",
            "Wildlings           wildl               \n",
            "north               north               \n",
            "of                  of                  \n",
            "the                 the                 \n",
            "Wall                wall                \n",
            ".                   .                   \n"
          ],
          "name": "stdout"
        }
      ]
    },
    {
      "cell_type": "code",
      "metadata": {
        "id": "axwns1hHRxxL",
        "colab_type": "code",
        "colab": {
          "base_uri": "https://localhost:8080/",
          "height": 1000
        },
        "outputId": "4b77921a-6c20-42bd-d10f-f33d13fc595f"
      },
      "source": [
        "import nltk\n",
        "from nltk.stem import WordNetLemmatizer\n",
        "lemma = WordNetLemmatizer()\n",
        "tokens = nltk.word_tokenize(GOT_text)\n",
        "print(\"{0:20}{1:20}\".format(\"Word\",\"Lemma\"))\n",
        "for w in tokens:\n",
        "    print (\"{0:20}{1:20}\".format(w,lemma.lemmatize(w)))"
      ],
      "execution_count": 25,
      "outputs": [
        {
          "output_type": "stream",
          "text": [
            "Word                Lemma               \n",
            "The                 The                 \n",
            "final               final               \n",
            "season              season              \n",
            "depicts             depicts             \n",
            "the                 the                 \n",
            "culmination         culmination         \n",
            "of                  of                  \n",
            "the                 the                 \n",
            "series              series              \n",
            "'                   '                   \n",
            "two                 two                 \n",
            "primary             primary             \n",
            "conflicts           conflict            \n",
            ":                   :                   \n",
            "the                 the                 \n",
            "Great               Great               \n",
            "War                 War                 \n",
            "against             against             \n",
            "the                 the                 \n",
            "Army                Army                \n",
            "of                  of                  \n",
            "the                 the                 \n",
            "Dead                Dead                \n",
            ",                   ,                   \n",
            "and                 and                 \n",
            "the                 the                 \n",
            "Last                Last                \n",
            "War                 War                 \n",
            "for                 for                 \n",
            "control             control             \n",
            "of                  of                  \n",
            "the                 the                 \n",
            "Iron                Iron                \n",
            "Throne              Throne              \n",
            ".                   .                   \n",
            "In                  In                  \n",
            "the                 the                 \n",
            "first               first               \n",
            "half                half                \n",
            "of                  of                  \n",
            "the                 the                 \n",
            "season              season              \n",
            ",                   ,                   \n",
            "Jon                 Jon                 \n",
            "Snow                Snow                \n",
            ",                   ,                   \n",
            "Daenerys            Daenerys            \n",
            "Targaryen           Targaryen           \n",
            "and                 and                 \n",
            "many                many                \n",
            "of                  of                  \n",
            "the                 the                 \n",
            "main                main                \n",
            "characters          character           \n",
            "converge            converge            \n",
            "at                  at                  \n",
            "Winterfell          Winterfell          \n",
            "to                  to                  \n",
            "face                face                \n",
            "the                 the                 \n",
            "Dead                Dead                \n",
            ".                   .                   \n",
            "During              During              \n",
            "the                 the                 \n",
            "long                long                \n",
            ",                   ,                   \n",
            "bloody              bloody              \n",
            "battle              battle              \n",
            ",                   ,                   \n",
            "which               which               \n",
            "includes            includes            \n",
            "aerial              aerial              \n",
            "combat              combat              \n",
            "by                  by                  \n",
            "dragons             dragon              \n",
            ",                   ,                   \n",
            "Bran                Bran                \n",
            "lures               lure                \n",
            "the                 the                 \n",
            "Night               Night               \n",
            "King                King                \n",
            "into                into                \n",
            "the                 the                 \n",
            "open                open                \n",
            ",                   ,                   \n",
            "where               where               \n",
            "Arya                Arya                \n",
            "destroys            destroys            \n",
            "him                 him                 \n",
            ";                   ;                   \n",
            "the                 the                 \n",
            "army                army                \n",
            "of                  of                  \n",
            "White               White               \n",
            "Walkers             Walkers             \n",
            "and                 and                 \n",
            "wights              wight               \n",
            "crumble             crumble             \n",
            ".                   .                   \n",
            "Meanwhile           Meanwhile           \n",
            ",                   ,                   \n",
            "Cersei              Cersei              \n",
            "Lannister           Lannister           \n",
            "remains             remains             \n",
            "in                  in                  \n",
            "King                King                \n",
            "'s                  's                  \n",
            "Landing             Landing             \n",
            "and                 and                 \n",
            "strengthens         strengthens         \n",
            "her                 her                 \n",
            "forces              force               \n",
            "to                  to                  \n",
            "set                 set                 \n",
            "traps               trap                \n",
            "for                 for                 \n",
            "a                   a                   \n",
            "weakened            weakened            \n",
            "Daenerys            Daenerys            \n",
            ".                   .                   \n",
            "The                 The                 \n",
            "second              second              \n",
            "half                half                \n",
            "of                  of                  \n",
            "the                 the                 \n",
            "season              season              \n",
            "resumes             resume              \n",
            "the                 the                 \n",
            "war                 war                 \n",
            "for                 for                 \n",
            "the                 the                 \n",
            "throne              throne              \n",
            "as                  a                   \n",
            "Daenerys            Daenerys            \n",
            "suffers             suffers             \n",
            "losses              loss                \n",
            "until               until               \n",
            "she                 she                 \n",
            "finally             finally             \n",
            "assaults            assault             \n",
            "King                King                \n",
            "'s                  's                  \n",
            "Landing             Landing             \n",
            "on                  on                  \n",
            "Drogon              Drogon              \n",
            ",                   ,                   \n",
            "her                 her                 \n",
            "last                last                \n",
            "dragon              dragon              \n",
            ".                   .                   \n",
            "She                 She                 \n",
            "defeats             defeat              \n",
            "Cersei              Cersei              \n",
            "'s                  's                  \n",
            "forces              force               \n",
            ",                   ,                   \n",
            "burns               burn                \n",
            "the                 the                 \n",
            "city                city                \n",
            "and                 and                 \n",
            "kills               kill                \n",
            "Cersei              Cersei              \n",
            "and                 and                 \n",
            "her                 her                 \n",
            "brother             brother             \n",
            "Jaime               Jaime               \n",
            ".                   .                   \n",
            "Daenerys            Daenerys            \n",
            "vows                vow                 \n",
            "to                  to                  \n",
            "``                  ``                  \n",
            "liberate            liberate            \n",
            "''                  ''                  \n",
            "the                 the                 \n",
            "whole               whole               \n",
            "world               world               \n",
            "as                  a                   \n",
            "she                 she                 \n",
            "has                 ha                  \n",
            "liberated           liberated           \n",
            "the                 the                 \n",
            "capital             capital             \n",
            "of                  of                  \n",
            "Westeros            Westeros            \n",
            ".                   .                   \n",
            "Unable              Unable              \n",
            "to                  to                  \n",
            "sway                sway                \n",
            "her                 her                 \n",
            "from                from                \n",
            "her                 her                 \n",
            "destructive         destructive         \n",
            "path                path                \n",
            ",                   ,                   \n",
            "an                  an                  \n",
            "agonized            agonized            \n",
            "Jon                 Jon                 \n",
            "kills               kill                \n",
            "her                 her                 \n",
            ".                   .                   \n",
            "Drogon              Drogon              \n",
            "flies               fly                 \n",
            "away                away                \n",
            "with                with                \n",
            "her                 her                 \n",
            "body                body                \n",
            ".                   .                   \n",
            "The                 The                 \n",
            "leaders             leader              \n",
            "of                  of                  \n",
            "Westeros            Westeros            \n",
            "choose              choose              \n",
            "Bran                Bran                \n",
            "Stark               Stark               \n",
            "as                  a                   \n",
            "King                King                \n",
            ",                   ,                   \n",
            "who                 who                 \n",
            "grants              grant               \n",
            "the                 the                 \n",
            "North               North               \n",
            "independence        independence        \n",
            "and                 and                 \n",
            "appoints            appoints            \n",
            "Tyrion              Tyrion              \n",
            "his                 his                 \n",
            "Hand                Hand                \n",
            ".                   .                   \n",
            "Sansa               Sansa               \n",
            "Stark               Stark               \n",
            "is                  is                  \n",
            "crowned             crowned             \n",
            "Queen               Queen               \n",
            "in                  in                  \n",
            "the                 the                 \n",
            "North               North               \n",
            ".                   .                   \n",
            "Arya                Arya                \n",
            "sails               sail                \n",
            "west                west                \n",
            ",                   ,                   \n",
            "and                 and                 \n",
            "Jon                 Jon                 \n",
            "leads               lead                \n",
            "the                 the                 \n",
            "Wildlings           Wildlings           \n",
            "north               north               \n",
            "of                  of                  \n",
            "the                 the                 \n",
            "Wall                Wall                \n",
            ".                   .                   \n"
          ],
          "name": "stdout"
        }
      ]
    },
    {
      "cell_type": "code",
      "metadata": {
        "id": "Gs8LRWJMR_uH",
        "colab_type": "code",
        "colab": {}
      },
      "source": [
        ""
      ],
      "execution_count": null,
      "outputs": []
    }
  ]
}