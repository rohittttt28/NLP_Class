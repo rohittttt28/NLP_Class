{
  "nbformat": 4,
  "nbformat_minor": 0,
  "metadata": {
    "colab": {
      "name": "Revise_classics_problem.ipynb",
      "provenance": [],
      "authorship_tag": "ABX9TyMqBuW6SM6yrh2khvHKCk3t",
      "include_colab_link": true
    },
    "kernelspec": {
      "name": "python3",
      "display_name": "Python 3"
    }
  },
  "cells": [
    {
      "cell_type": "markdown",
      "metadata": {
        "id": "view-in-github",
        "colab_type": "text"
      },
      "source": [
        "<a href=\"https://colab.research.google.com/github/rohittttt28/NLP_Class/blob/master/Revise_classics_problem.ipynb\" target=\"_parent\"><img src=\"https://colab.research.google.com/assets/colab-badge.svg\" alt=\"Open In Colab\"/></a>"
      ]
    },
    {
      "cell_type": "markdown",
      "metadata": {
        "id": "fcdDBgBtEHyh"
      },
      "source": [
        "Run Length Encoding"
      ]
    },
    {
      "cell_type": "code",
      "metadata": {
        "id": "1NFzoq8GEL2u",
        "outputId": "a9f43ed5-ab07-4e24-83f5-5fd64b07d439",
        "colab": {
          "base_uri": "https://localhost:8080/",
          "height": 34
        }
      },
      "source": [
        "def run_length(string):\n",
        "  freq={}\n",
        "  for i in string:\n",
        "    if i in freq:\n",
        "      freq[i]+=1\n",
        "    else:\n",
        "      freq[i]=1\n",
        "  s=\"\"\n",
        "  x=dict(sorted(freq.items()))\n",
        "  for i,j in x.items():\n",
        "    s+=i+str(j)\n",
        "  return s\n",
        "print(run_length('bbaaacacabba'))\n"
      ],
      "execution_count": 12,
      "outputs": [
        {
          "output_type": "stream",
          "text": [
            "a6b4c2\n"
          ],
          "name": "stdout"
        }
      ]
    },
    {
      "cell_type": "markdown",
      "metadata": {
        "id": "VzGYT3WZCxuU"
      },
      "source": [
        "Check if string has the unique characters\n"
      ]
    },
    {
      "cell_type": "code",
      "metadata": {
        "id": "Xvl6B5-_Alhg",
        "outputId": "e2fa6646-8449-4095-f450-bb6d53ab3dcf",
        "colab": {
          "base_uri": "https://localhost:8080/",
          "height": 50
        }
      },
      "source": [
        "string=input()\n",
        "x=\"True\" if len(string)==len(set(string)) else \"False\"\n",
        "print(x)\n"
      ],
      "execution_count": 5,
      "outputs": [
        {
          "output_type": "stream",
          "text": [
            "rohit\n",
            "True\n"
          ],
          "name": "stdout"
        }
      ]
    },
    {
      "cell_type": "markdown",
      "metadata": {
        "id": "YEOQPdx7CwYR"
      },
      "source": [
        "Check if string is the permutation of the given string\n"
      ]
    },
    {
      "cell_type": "code",
      "metadata": {
        "id": "-ob73roYDnwW",
        "outputId": "00a1bf8f-d55f-46f7-d722-6e42dd65da39",
        "colab": {
          "base_uri": "https://localhost:8080/",
          "height": 34
        }
      },
      "source": [
        "def is_permutation(str1,str2):\n",
        "  if len(str1)!=len(str2):\n",
        "    return False\n",
        "  for i in str1:\n",
        "    if i in str2:\n",
        "      str2=str2.replace(i,\"\")\n",
        "\n",
        "  if len(str2)==0:\n",
        "    return True\n",
        "\n",
        "is_permutation('rohit','hityor')\n"
      ],
      "execution_count": 15,
      "outputs": [
        {
          "output_type": "execute_result",
          "data": {
            "text/plain": [
              "False"
            ]
          },
          "metadata": {
            "tags": []
          },
          "execution_count": 15
        }
      ]
    },
    {
      "cell_type": "code",
      "metadata": {
        "id": "UXHTzfh5GyZv"
      },
      "source": [
        "class string_checker():\n",
        "  def __init__(self):\n",
        "    pass\n",
        "  def is_palindrome(self,str1):\n",
        "    return True if str1==str1[::-1] else False\n",
        "\n",
        "s=string_checker()"
      ],
      "execution_count": 16,
      "outputs": []
    },
    {
      "cell_type": "code",
      "metadata": {
        "id": "gVqXe9riGkeR",
        "outputId": "e0e9782f-b565-4acc-e004-76bb334b665f",
        "colab": {
          "base_uri": "https://localhost:8080/",
          "height": 34
        }
      },
      "source": [
        "print(s.is_palindrome('ihyhi'))\n"
      ],
      "execution_count": 17,
      "outputs": [
        {
          "output_type": "stream",
          "text": [
            "True\n"
          ],
          "name": "stdout"
        }
      ]
    },
    {
      "cell_type": "code",
      "metadata": {
        "id": "HYnv2zinHnR2",
        "outputId": "d0de60b3-dd01-4016-a9d5-2875cb1e6fb0",
        "colab": {
          "base_uri": "https://localhost:8080/",
          "height": 34
        }
      },
      "source": [
        "def two_sum(arr,tar):\n",
        "  freq={}\n",
        "  for i in range(len(arr)):\n",
        "    if arr[i] in freq:\n",
        "      return freq[arr[i]],i\n",
        "    else :\n",
        "      freq[tar-arr[i]]=i\n",
        "  return False\n",
        "print(two_sum([1,3,11,2,7],9))\n"
      ],
      "execution_count": 18,
      "outputs": [
        {
          "output_type": "stream",
          "text": [
            "(3, 4)\n"
          ],
          "name": "stdout"
        }
      ]
    },
    {
      "cell_type": "code",
      "metadata": {
        "id": "OldXGT4TKrVD",
        "outputId": "663554ee-7d7f-478f-afea-9288904bc661",
        "colab": {
          "base_uri": "https://localhost:8080/",
          "height": 50
        }
      },
      "source": [
        "def single_no(arr):\n",
        "  freq={}\n",
        "  for i in arr:\n",
        "    if i in freq:\n",
        "      freq[i]+=1\n",
        "    else:\n",
        "      freq[i]=1\n",
        "  for i,j in freq.items():\n",
        "    if j==1:\n",
        "      return i\n",
        "  return False\n",
        "def xor_method(arr):\n",
        "  value=arr[0]\n",
        "  for i in range(1,len(arr)):\n",
        "    value^=arr[i]\n",
        "  return value\n",
        "\n",
        "print(single_no([1,2,3,1,2]))\n",
        "print(xor_method([1,2,3,1,2]))"
      ],
      "execution_count": 22,
      "outputs": [
        {
          "output_type": "stream",
          "text": [
            "3\n",
            "3\n"
          ],
          "name": "stdout"
        }
      ]
    },
    {
      "cell_type": "code",
      "metadata": {
        "id": "PFAJDZAQNjLp",
        "outputId": "337beeb7-e42f-4cfe-be5f-f9ed31add89c",
        "colab": {
          "base_uri": "https://localhost:8080/",
          "height": 50
        }
      },
      "source": [
        "def gcd(a,b):\n",
        "  if a==0:\n",
        "    return b\n",
        "  return gcd(b%a,a)\n",
        "\n",
        "def hcf(a,b):\n",
        "  return a*b/gcd(a,b)\n",
        "\n",
        "print(gcd(10,20))\n",
        "print(hcf(10,20))\n"
      ],
      "execution_count": 25,
      "outputs": [
        {
          "output_type": "stream",
          "text": [
            "10\n",
            "20.0\n"
          ],
          "name": "stdout"
        }
      ]
    },
    {
      "cell_type": "code",
      "metadata": {
        "id": "UKGyKeSbSOxj",
        "outputId": "f85b28a0-62c7-4efd-90c4-d7c16afd97c3",
        "colab": {
          "base_uri": "https://localhost:8080/",
          "height": 34
        }
      },
      "source": [
        "arr=[1,2,3,4,5]\n",
        "print(*arr)"
      ],
      "execution_count": 28,
      "outputs": [
        {
          "output_type": "stream",
          "text": [
            "1 2 3 4 5\n"
          ],
          "name": "stdout"
        }
      ]
    },
    {
      "cell_type": "code",
      "metadata": {
        "id": "NgG3urheS87a",
        "outputId": "62a47620-3f13-4548-8615-dee2097932b8",
        "colab": {
          "base_uri": "https://localhost:8080/",
          "height": 34
        }
      },
      "source": [
        "def is_anagram(str1,str2):\n",
        "  if len(str1)!=len(str2):\n",
        "    return False\n",
        "  alphabet=\"qwertyuiopasdfghjklzxcvbnm\"\n",
        "\n",
        "  dict1=dict.fromkeys(list(alphabet),0)\n",
        "  dict2=dict.fromkeys(list(alphabet),0)\n",
        "\n",
        "  for i in range(len(str1)):\n",
        "    dict1[str1[i]]+=1\n",
        "    dict2[str2[i]]+=1\n",
        "  return dict1==dict2\n",
        "\n",
        "print(is_anagram('rohit','hitor'))"
      ],
      "execution_count": 30,
      "outputs": [
        {
          "output_type": "stream",
          "text": [
            "True\n"
          ],
          "name": "stdout"
        }
      ]
    },
    {
      "cell_type": "code",
      "metadata": {
        "id": "-jibMRzs228d",
        "outputId": "d060ce58-d538-4fc7-c144-d0b2ced45a36",
        "colab": {
          "base_uri": "https://localhost:8080/",
          "height": 50
        }
      },
      "source": [
        "lst=input()\n",
        "tps = []\n",
        "prev = lst[0]\n",
        "count = 0\n",
        "for item in lst:\n",
        "    if item == prev:\n",
        "        count += 1\n",
        "        prev = item\n",
        "    else:\n",
        "        tps.append((count, int(prev)))\n",
        "        count = 1\n",
        "        prev = item\n",
        "tps.append((count,int( prev)))\n",
        "print(*tps)"
      ],
      "execution_count": 33,
      "outputs": [
        {
          "output_type": "stream",
          "text": [
            "1132324132323222223131\n",
            "(2, 1) (1, 3) (1, 2) (1, 3) (1, 2) (1, 4) (1, 1) (1, 3) (1, 2) (1, 3) (1, 2) (1, 3) (5, 2) (1, 3) (1, 1) (1, 3) (1, 1)\n"
          ],
          "name": "stdout"
        }
      ]
    },
    {
      "cell_type": "code",
      "metadata": {
        "id": "fgmvkMU32_Ty"
      },
      "source": [
        "# def is_string_rotation(str1,str2):\n",
        "#   if len(str1)!=len(str2):\n",
        "#     return False\n",
        "#   alphabet=\"qwertyuiopasdfghjklzxcvbnm\"\n",
        "\n",
        "#   dict1=dict.fromkeys(list(alphabet),0)\n",
        "#   dict2=dict.fromkeys(list(alphabet),0)\n",
        "\n",
        "#   for i in range(len(str1)):\n",
        "#     dict1[str1[i]]+=1\n",
        "#     dict2[str2[i]]+=1\n",
        "  "
      ],
      "execution_count": null,
      "outputs": []
    },
    {
      "cell_type": "code",
      "metadata": {
        "id": "T-nEMd7YD7tq"
      },
      "source": [
        ""
      ],
      "execution_count": null,
      "outputs": []
    }
  ]
}